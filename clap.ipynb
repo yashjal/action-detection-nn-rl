{
 "cells": [
  {
   "cell_type": "code",
   "execution_count": 40,
   "metadata": {},
   "outputs": [],
   "source": [
    "import numpy as np"
   ]
  },
  {
   "cell_type": "code",
   "execution_count": 41,
   "metadata": {},
   "outputs": [],
   "source": [
    "def sigmoid(x):\n",
    "    return 1.0/(1+ np.exp(-x))\n",
    "\n",
    "def sigmoid_derivative(x):\n",
    "    return x * (1.0 - x)\n",
    "\n",
    "def relu(x):\n",
    "    return np.maximum(0.0,x)\n",
    "\n",
    "def relu_derivative(x):\n",
    "    x[x > 0] = 1\n",
    "    x[x <= 0] = 0\n",
    "    return x\n",
    "\n",
    "class NeuralNetwork:\n",
    "    def __init__(self, x, y, gamma, nhidden, lr, w1, w2):\n",
    "        self.input      = x\n",
    "        self.y          = y\n",
    "        self.weights1   = w1 #np.random.rand(self.input.shape[1],nhidden) \n",
    "        self.weights2   = w2 #np.random.rand(nhidden,self.y.shape[1])\n",
    "        #self.weights3   = np.random.rand(nhidden,nhidden)\n",
    "        #self.weights4   = np.random.rand(nhidden,self.y.shape[1])\n",
    "        self.output     = np.zeros((self.y.shape[0],self.y.shape[1]))\n",
    "        self.gamma      = gamma\n",
    "        self.lr         = lr\n",
    "\n",
    "    def forward(self):\n",
    "        self.layer1 = sigmoid(np.dot(self.input, self.weights1))\n",
    "        #self.layer2 = relu(np.dot(self.layer1, self.weights2))\n",
    "        #self.layer3 = relu(np.dot(self.layer2, self.weights3))\n",
    "        self.output = np.dot(self.layer1, self.weights2)\n",
    "        \n",
    "    def backprop(self):\n",
    "        # application of the chain rule to find derivative of the loss function with respect to weights\n",
    "        #d_weights4 = np.dot(self.layer3.T, np.multiply(self.gamma, (2*(self.y - self.output))))\n",
    "        #d_weights3 = np.dot(self.layer2.T, (np.dot(np.multiply(self.gamma, (2*(self.y - self.output))), self.weights4.T) * relu_derivative(self.layer3)))\n",
    "        #d_weights2 = np.dot(self.layer1.T, (np.dot((np.dot(np.multiply(self.gamma, (2*(self.y - self.output))), self.weights4.T) * relu_derivative(self.layer3)), self.weights3.T) * relu_derivative(self.layer2)))\n",
    "        #d_weights1 = np.dot(self.input.T, (np.dot((np.dot((np.dot(np.multiply(self.gamma, (2*(self.y - self.output))), self.weights4.T) * relu_derivative(self.layer3)), self.weights3.T) * relu_derivative(self.layer2)), self.weights2.T) * relu_derivative(self.layer1)))\n",
    "        d_weights2 = np.dot(self.layer1.T, np.multiply(self.gamma, 2*(self.y - self.output)))\n",
    "        d_weights1 = np.dot(self.input.T,  (np.dot(np.multiply(self.gamma, 2*(self.y - self.output)), self.weights2.T) * sigmoid_derivative(self.layer1)))\n",
    "\n",
    "        # update weights\n",
    "        self.weights1 += self.lr*d_weights1\n",
    "        self.weights2 += self.lr*d_weights2\n",
    "        #self.weights3 += self.lr*d_weights3\n",
    "        #self.weights4 += self.lr*d_weights4\n"
   ]
  },
  {
   "cell_type": "code",
   "execution_count": 42,
   "metadata": {},
   "outputs": [
    {
     "name": "stdout",
     "output_type": "stream",
     "text": [
      "(66, 78)\n",
      "(66, 39)\n",
      "(66, 1)\n"
     ]
    },
    {
     "data": {
      "text/plain": [
       "array([[ 0.00152217, -0.00175957, -0.00156016, ...,  0.01594208,\n",
       "        -0.03950794, -0.04524872],\n",
       "       [-0.00212442,  0.00141891,  0.00264854, ...,  0.00253685,\n",
       "         0.0552838 , -0.0352833 ],\n",
       "       [-0.00102743, -0.00138129, -0.00188726, ..., -0.00810148,\n",
       "        -0.0843131 ,  0.14662646],\n",
       "       ...,\n",
       "       [-0.00040489,  0.00060764, -0.00189025, ..., -0.10275028,\n",
       "        -0.1456727 , -0.10197728],\n",
       "       [ 0.00250908,  0.00208707, -0.00092389, ...,  0.23969214,\n",
       "         0.07869303,  0.07850243],\n",
       "       [ 0.00525217,  0.00441379, -0.00189416, ..., -0.18403281,\n",
       "         0.08164934, -0.07986213]])"
      ]
     },
     "execution_count": 42,
     "metadata": {},
     "output_type": "execute_result"
    }
   ],
   "source": [
    "# load inp, out\n",
    "import scipy.io as sio\n",
    "\n",
    "inf = sio.loadmat(\"matrics1.mat\")\n",
    "X = inf[\"mat1_each\"]\n",
    "y = inf[\"mat2_each\"]\n",
    "gamma = inf[\"output_each\"].T\n",
    "print(X.shape)\n",
    "print(y.shape)\n",
    "print(gamma.shape)\n",
    "y"
   ]
  },
  {
   "cell_type": "code",
   "execution_count": 43,
   "metadata": {},
   "outputs": [
    {
     "name": "stdout",
     "output_type": "stream",
     "text": [
      "[[0.02812175 0.01499496 0.02025303 ... 0.01955004 0.02362319 0.0217148 ]\n",
      " [0.02490817 0.01332187 0.01796275 ... 0.01773422 0.02068147 0.01965966]\n",
      " [0.0210213  0.01100471 0.01539368 ... 0.01511974 0.01798245 0.01646851]\n",
      " ...\n",
      " [0.00162266 0.00089458 0.0011841  ... 0.00139455 0.00130482 0.00148884]\n",
      " [0.00078624 0.00049435 0.00067932 ... 0.00082084 0.00070838 0.00077509]\n",
      " [0.00145864 0.00076243 0.00104239 ... 0.00118217 0.00111635 0.00120954]]\n"
     ]
    }
   ],
   "source": [
    "nhidden = 75\n",
    "w1 = np.random.rand(X.shape[1],nhidden)\n",
    "w2 = np.random.rand(nhidden,y.shape[1])\n",
    "\n",
    "nn = NeuralNetwork(X,y,gamma,nhidden,0.001,w1,w2)\n",
    "for i in range(3000):\n",
    "    nn.forward()\n",
    "    nn.backprop()\n",
    "    \n",
    "#print error\n",
    "print(nn.output)\n"
   ]
  },
  {
   "cell_type": "code",
   "execution_count": 44,
   "metadata": {},
   "outputs": [
    {
     "data": {
      "text/plain": [
       "4.5383682757596375"
      ]
     },
     "execution_count": 44,
     "metadata": {},
     "output_type": "execute_result"
    }
   ],
   "source": [
    "from numpy import linalg as LA\n",
    "\n",
    "LA.norm(nn.output-nn.y)"
   ]
  },
  {
   "cell_type": "code",
   "execution_count": 45,
   "metadata": {},
   "outputs": [
    {
     "ename": "KeyboardInterrupt",
     "evalue": "",
     "output_type": "error",
     "traceback": [
      "\u001b[0;31m---------------------------------------------------------------------------\u001b[0m",
      "\u001b[0;31mKeyboardInterrupt\u001b[0m                         Traceback (most recent call last)",
      "\u001b[0;32m<ipython-input-45-2c844fe354c2>\u001b[0m in \u001b[0;36m<module>\u001b[0;34m()\u001b[0m\n\u001b[1;32m     10\u001b[0m     \u001b[0;32mfor\u001b[0m \u001b[0mi\u001b[0m \u001b[0;32min\u001b[0m \u001b[0mrange\u001b[0m\u001b[0;34m(\u001b[0m\u001b[0;36m3000\u001b[0m\u001b[0;34m)\u001b[0m\u001b[0;34m:\u001b[0m\u001b[0;34m\u001b[0m\u001b[0m\n\u001b[1;32m     11\u001b[0m         \u001b[0mnn\u001b[0m\u001b[0;34m.\u001b[0m\u001b[0mforward\u001b[0m\u001b[0;34m(\u001b[0m\u001b[0;34m)\u001b[0m\u001b[0;34m\u001b[0m\u001b[0m\n\u001b[0;32m---> 12\u001b[0;31m         \u001b[0mnn\u001b[0m\u001b[0;34m.\u001b[0m\u001b[0mbackprop\u001b[0m\u001b[0;34m(\u001b[0m\u001b[0;34m)\u001b[0m\u001b[0;34m\u001b[0m\u001b[0m\n\u001b[0m",
      "\u001b[0;32m<ipython-input-41-ea29e2c090a1>\u001b[0m in \u001b[0;36mbackprop\u001b[0;34m(self)\u001b[0m\n\u001b[1;32m     38\u001b[0m         \u001b[0;31m#d_weights1 = np.dot(self.input.T, (np.dot((np.dot((np.dot(np.multiply(self.gamma, (2*(self.y - self.output))), self.weights4.T) * relu_derivative(self.layer3)), self.weights3.T) * relu_derivative(self.layer2)), self.weights2.T) * relu_derivative(self.layer1)))\u001b[0m\u001b[0;34m\u001b[0m\u001b[0;34m\u001b[0m\u001b[0m\n\u001b[1;32m     39\u001b[0m         \u001b[0md_weights2\u001b[0m \u001b[0;34m=\u001b[0m \u001b[0mnp\u001b[0m\u001b[0;34m.\u001b[0m\u001b[0mdot\u001b[0m\u001b[0;34m(\u001b[0m\u001b[0mself\u001b[0m\u001b[0;34m.\u001b[0m\u001b[0mlayer1\u001b[0m\u001b[0;34m.\u001b[0m\u001b[0mT\u001b[0m\u001b[0;34m,\u001b[0m \u001b[0mnp\u001b[0m\u001b[0;34m.\u001b[0m\u001b[0mmultiply\u001b[0m\u001b[0;34m(\u001b[0m\u001b[0mself\u001b[0m\u001b[0;34m.\u001b[0m\u001b[0mgamma\u001b[0m\u001b[0;34m,\u001b[0m \u001b[0;36m2\u001b[0m\u001b[0;34m*\u001b[0m\u001b[0;34m(\u001b[0m\u001b[0mself\u001b[0m\u001b[0;34m.\u001b[0m\u001b[0my\u001b[0m \u001b[0;34m-\u001b[0m \u001b[0mself\u001b[0m\u001b[0;34m.\u001b[0m\u001b[0moutput\u001b[0m\u001b[0;34m)\u001b[0m\u001b[0;34m)\u001b[0m\u001b[0;34m)\u001b[0m\u001b[0;34m\u001b[0m\u001b[0m\n\u001b[0;32m---> 40\u001b[0;31m         \u001b[0md_weights1\u001b[0m \u001b[0;34m=\u001b[0m \u001b[0mnp\u001b[0m\u001b[0;34m.\u001b[0m\u001b[0mdot\u001b[0m\u001b[0;34m(\u001b[0m\u001b[0mself\u001b[0m\u001b[0;34m.\u001b[0m\u001b[0minput\u001b[0m\u001b[0;34m.\u001b[0m\u001b[0mT\u001b[0m\u001b[0;34m,\u001b[0m  \u001b[0;34m(\u001b[0m\u001b[0mnp\u001b[0m\u001b[0;34m.\u001b[0m\u001b[0mdot\u001b[0m\u001b[0;34m(\u001b[0m\u001b[0mnp\u001b[0m\u001b[0;34m.\u001b[0m\u001b[0mmultiply\u001b[0m\u001b[0;34m(\u001b[0m\u001b[0mself\u001b[0m\u001b[0;34m.\u001b[0m\u001b[0mgamma\u001b[0m\u001b[0;34m,\u001b[0m \u001b[0;36m2\u001b[0m\u001b[0;34m*\u001b[0m\u001b[0;34m(\u001b[0m\u001b[0mself\u001b[0m\u001b[0;34m.\u001b[0m\u001b[0my\u001b[0m \u001b[0;34m-\u001b[0m \u001b[0mself\u001b[0m\u001b[0;34m.\u001b[0m\u001b[0moutput\u001b[0m\u001b[0;34m)\u001b[0m\u001b[0;34m)\u001b[0m\u001b[0;34m,\u001b[0m \u001b[0mself\u001b[0m\u001b[0;34m.\u001b[0m\u001b[0mweights2\u001b[0m\u001b[0;34m.\u001b[0m\u001b[0mT\u001b[0m\u001b[0;34m)\u001b[0m \u001b[0;34m*\u001b[0m \u001b[0msigmoid_derivative\u001b[0m\u001b[0;34m(\u001b[0m\u001b[0mself\u001b[0m\u001b[0;34m.\u001b[0m\u001b[0mlayer1\u001b[0m\u001b[0;34m)\u001b[0m\u001b[0;34m)\u001b[0m\u001b[0;34m)\u001b[0m\u001b[0;34m\u001b[0m\u001b[0m\n\u001b[0m\u001b[1;32m     41\u001b[0m \u001b[0;34m\u001b[0m\u001b[0m\n\u001b[1;32m     42\u001b[0m         \u001b[0;31m# update weights\u001b[0m\u001b[0;34m\u001b[0m\u001b[0;34m\u001b[0m\u001b[0m\n",
      "\u001b[0;31mKeyboardInterrupt\u001b[0m: "
     ]
    }
   ],
   "source": [
    "# repeat for all videos in training\n",
    "for i in range(2,700):\n",
    "    inf = sio.loadmat(\"matrics\"+str(i)+\".mat\")\n",
    "    X = inf[\"mat1_each\"]\n",
    "    y = inf[\"mat2_each\"]\n",
    "    gamma = inf[\"output_each\"].T\n",
    "    w1 = nn.weights1\n",
    "    w2 = nn.weights2\n",
    "    nn = NeuralNetwork(X,y,gamma,nhidden,0.001,w1,w2)\n",
    "    for j in range(3000):\n",
    "        nn.forward()\n",
    "        nn.backprop()"
   ]
  },
  {
   "cell_type": "code",
   "execution_count": 39,
   "metadata": {},
   "outputs": [
    {
     "name": "stdout",
     "output_type": "stream",
     "text": [
      "[-2.00157397e-01 -6.16902433e-02 -3.45475243e-02 -1.57675015e-03\n",
      " -1.53240514e-03  1.15457471e-02  2.43484459e-01  2.07913327e-01\n",
      "  1.08187215e-02  7.59913665e-04  1.20457451e-03 -2.36066466e-02\n",
      "  6.70210750e-01  2.75559006e-01 -5.89105069e-03  3.12446286e-03\n",
      " -3.07466501e-03 -3.45981225e-02  1.04154038e+00  2.32207465e-01\n",
      " -5.17111190e-02  3.83151489e-02 -2.15076273e-02 -4.71306145e-02\n",
      "  1.16275846e+00  1.93481640e-01 -7.04510437e-02  3.39638925e-02\n",
      " -2.31558175e-02 -4.43645968e-02  1.79382700e-01  2.16155640e-01\n",
      " -1.23497353e-02  3.00150708e-03 -6.00523316e-04 -2.81024162e-02\n",
      "  5.64871356e-01  2.78847196e-01 -2.95304001e-02  3.05345075e-03\n",
      " -5.47498683e-03 -3.95017131e-02  7.69526767e-01 -1.07864049e-01\n",
      " -1.14831054e-01 -1.27766181e-03 -1.85960420e-02 -1.99233756e-04\n",
      "  8.68585071e-01 -1.68582639e-01 -1.62088863e-01 -8.24590524e-03\n",
      " -2.38097474e-02  6.04259660e-03  1.27322163e+00  1.74919459e-01\n",
      " -8.92698582e-02  4.35922183e-02 -4.76884893e-02 -3.35781506e-02\n",
      "  1.18990675e+00  2.04269557e-01 -1.29173723e-01 -3.90401702e-03\n",
      " -3.75704032e-02 -3.81380160e-02  9.10316995e-01 -2.07355249e-01\n",
      " -1.68341230e-01  1.04576338e-03 -1.74501768e-03  6.77373553e-03\n",
      "  8.87364068e-01 -8.70154178e-02 -1.71635717e-01 -1.52495216e-02\n",
      " -2.62418824e-02 -8.54150771e-03]\n",
      "[ 3.07840182e-03 -2.66797749e-05 -1.47806454e-02 -1.39332778e-03\n",
      " -2.90312230e-04  2.62677492e-02 -2.10659630e-03  3.70306500e-03\n",
      "  3.67162703e-02 -6.23042533e-02  2.19187149e-02  5.06929591e-02\n",
      " -7.93124327e-02  2.64717403e-02  5.12188975e-02 -1.49590832e-03\n",
      "  3.44346066e-03  3.16952079e-02  6.84034117e-02  5.09815726e-02\n",
      "  9.93637193e-02  1.14163498e-01  8.61175077e-02  6.61539095e-02\n",
      "  1.02357976e-01  6.08032086e-02  1.73869859e-02 -9.59401472e-02\n",
      "  7.25726752e-02  2.57416516e-02 -4.39254172e-02  4.56938135e-02\n",
      "  4.94491615e-02  7.96698566e-02  6.10181635e-02  9.18394281e-03\n",
      "  6.42716879e-02  5.87841031e-02  2.81492190e-02]\n"
     ]
    }
   ],
   "source": [
    "# test one\n",
    "inf = sio.loadmat(\"matrics750.mat\")\n",
    "X = inf[\"mat1_each\"]\n",
    "y = inf[\"mat2_each\"]\n",
    "gamma = inf[\"output_each\"].T\n",
    "w1 = nn.weights1\n",
    "w2 = nn.weights2\n",
    "## INCOMPLETE "
   ]
  },
  {
   "cell_type": "code",
   "execution_count": 46,
   "metadata": {},
   "outputs": [
    {
     "name": "stdout",
     "output_type": "stream",
     "text": [
      "[[5 6]]\n"
     ]
    }
   ],
   "source": [
    "# write output to file\n",
    "## INCOMPLETE"
   ]
  },
  {
   "cell_type": "code",
   "execution_count": null,
   "metadata": {},
   "outputs": [],
   "source": []
  }
 ],
 "metadata": {
  "kernelspec": {
   "display_name": "Python 3",
   "language": "python",
   "name": "python3"
  },
  "language_info": {
   "codemirror_mode": {
    "name": "ipython",
    "version": 3
   },
   "file_extension": ".py",
   "mimetype": "text/x-python",
   "name": "python",
   "nbconvert_exporter": "python",
   "pygments_lexer": "ipython3",
   "version": "3.7.0"
  }
 },
 "nbformat": 4,
 "nbformat_minor": 2
}
